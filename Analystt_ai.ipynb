{
  "nbformat": 4,
  "nbformat_minor": 0,
  "metadata": {
    "colab": {
      "provenance": []
    },
    "kernelspec": {
      "name": "python3",
      "display_name": "Python 3"
    },
    "language_info": {
      "name": "python"
    }
  },
  "cells": [
    {
      "cell_type": "markdown",
      "source": [],
      "metadata": {
        "id": "4QhIFHJhIDGy"
      }
    },
    {
      "cell_type": "markdown",
      "source": [
        "#To do list"
      ],
      "metadata": {
        "id": "T96deiLWIF15"
      }
    },
    {
      "cell_type": "code",
      "execution_count": 2,
      "metadata": {
        "id": "SwUy1EP_RMZp",
        "colab": {
          "base_uri": "https://localhost:8080/"
        },
        "outputId": "111701a9-9f6c-46eb-d8d6-74c97d61a9fc"
      },
      "outputs": [
        {
          "output_type": "stream",
          "name": "stdout",
          "text": [
            "\n",
            "--- To-Do List ---\n",
            "1. Add Task\n",
            "2. Delete Task\n",
            "3. Mark as Completed\n",
            "4. Display Tasks\n",
            "5. View Task Details\n",
            "6. Exit\n",
            "Enter your choice (1-6): 1\n",
            "Enter task title: go home\n",
            "Enter task description (optional): \n",
            "Task 'go home' added successfully!\n",
            "\n",
            "--- To-Do List ---\n",
            "1. Add Task\n",
            "2. Delete Task\n",
            "3. Mark as Completed\n",
            "4. Display Tasks\n",
            "5. View Task Details\n",
            "6. Exit\n",
            "Enter your choice (1-6): 6\n",
            "Exiting To-Do List Application.\n"
          ]
        }
      ],
      "source": [
        "def main():\n",
        "    todo_list = ToDoList()\n",
        "\n",
        "    while True:\n",
        "        print(\"\\n--- To-Do List ---\")\n",
        "        print(\"1. Add Task\")\n",
        "        print(\"2. Delete Task\")\n",
        "        print(\"3. Mark as Completed\")\n",
        "        print(\"4. Display Tasks\")\n",
        "        print(\"5. View Task Details\")\n",
        "        print(\"6. Exit\")\n",
        "\n",
        "        choice = input(\"Enter your choice (1-6): \")\n",
        "\n",
        "        if choice == '1':\n",
        "            title = input(\"Enter task title: \")\n",
        "            description = input(\"Enter task description (optional): \")\n",
        "            todo_list.add_task(title, description)\n",
        "\n",
        "        elif choice == '2':\n",
        "            task_number = input(\"Enter task number to delete: \")\n",
        "            todo_list.delete_task(int(task_number))\n",
        "\n",
        "        elif choice == '3':\n",
        "            task_number = input(\"Enter task number to mark as completed: \")\n",
        "            todo_list.mark_completed(int(task_number))\n",
        "\n",
        "        elif choice == '4':\n",
        "            todo_list.display_tasks()\n",
        "\n",
        "        elif choice == '5':\n",
        "            task_number = input(\"Enter task number to view details: \")\n",
        "            todo_list.view_task(int(task_number))\n",
        "\n",
        "        elif choice == '6':\n",
        "            print(\"Exiting To-Do List Application.\")\n",
        "            break\n",
        "\n",
        "        else:\n",
        "            print(\"Invalid choice. Please enter a number between 1 and 6.\")\n",
        "\n",
        "if __name__ == \"__main__\":\n",
        "    main()\n"
      ]
    },
    {
      "cell_type": "markdown",
      "source": [
        "# Weather app"
      ],
      "metadata": {
        "id": "uQ-hhHRXJCyW"
      }
    },
    {
      "cell_type": "code",
      "source": [
        "import requests\n",
        "\n",
        "class WeatherApp:\n",
        "    def __init__(self, api_key):\n",
        "    def get_weather(self, city):\n",
        "        params = {\"q\": city, \"appid\": self.api_key, \"units\": \"metric\"}\n",
        "\n",
        "        response = requests.get(self.base_url, params=params)\n",
        "        data = response.json()\n",
        "\n",
        "        if data[\"cod\"] == \"404\":\n",
        "            print(\"City not found.\")\n",
        "        else:\n",
        "            weather_description = data[\"weather\"][0][\"description\"]\n",
        "            temperature = data[\"main\"][\"temp\"]\n",
        "            print(f\"Weather in {city}: {weather_description}, Temperature: {temperature}°C\")\n",
        "\n",
        "    def run(self):\n",
        "        print(\"Welcome to the Weather App!\")\n",
        "\n",
        "        while True:\n",
        "            city = input(\"Enter city name (or 'exit' to quit): \")\n",
        "\n",
        "            if city.lower() == 'exit':\n",
        "                print(\"Exiting Weather App. Goodbye!\")\n",
        "                break\n",
        "\n",
        "            self.get_weather(city)\n",
        "\n",
        "if __name__ == \"__main__\":\n",
        "    api_key = \"30d4741c779ba94c470ca1f63045390a\"\n",
        "    weather_app = WeatherApp(api_key)\n",
        "    weather_app.run()\n"
      ],
      "metadata": {
        "colab": {
          "base_uri": "https://localhost:8080/"
        },
        "id": "yMyLN7jBJF5H",
        "outputId": "3dbf0a1d-2ddb-4ca8-b3c5-26d5117e67fe"
      },
      "execution_count": 3,
      "outputs": [
        {
          "output_type": "stream",
          "name": "stdout",
          "text": [
            "Welcome to the Weather App!\n",
            "Enter city name (or 'exit' to quit): thane\n",
            "Weather in thane: smoke, Temperature: 26.95°C\n",
            "Enter city name (or 'exit' to quit): exit\n",
            "Exiting Weather App. Goodbye!\n"
          ]
        }
      ]
    },
    {
      "cell_type": "markdown",
      "source": [
        "#Expense tracker"
      ],
      "metadata": {
        "id": "bePokbVwJUuR"
      }
    },
    {
      "cell_type": "code",
      "source": [
        "import sqlite3\n",
        "from datetime import datetime\n",
        "\n",
        "class ExpenseTracker:\n",
        "    def __init__(self):\n",
        "        self.conn = sqlite3.connect(\"expenses.db\")\n",
        "        self.cursor = self.conn.cursor()\n",
        "        self.create_table()\n",
        "\n",
        "    def create_table(self):\n",
        "        self.cursor.execute('''\n",
        "            CREATE TABLE IF NOT EXISTS expenses (\n",
        "                id INTEGER PRIMARY KEY,\n",
        "                amount REAL,\n",
        "                category TEXT,\n",
        "                description TEXT,\n",
        "                date TEXT\n",
        "            )\n",
        "        ''')\n",
        "        self.conn.commit()\n",
        "\n",
        "    def add_expense(self, amount, category, description=\"\"):\n",
        "        date = datetime.now().strftime(\"%Y-%m-%d %H:%M:%S\")\n",
        "        self.cursor.execute('''\n",
        "            INSERT INTO expenses (amount, category, description, date)\n",
        "            VALUES (?, ?, ?, ?)\n",
        "        ''', (amount, category, description, date))\n",
        "        self.conn.commit()\n",
        "        print(\"Expense added successfully!\")\n",
        "\n",
        "    def view_expenses(self):\n",
        "        self.cursor.execute(\"SELECT * FROM expenses\")\n",
        "        expenses = self.cursor.fetchall()\n",
        "        if not expenses:\n",
        "            print(\"No expenses available.\")\n",
        "        else:\n",
        "            for expense in expenses:\n",
        "                print(f\"ID: {expense[0]}, Amount: Rs {expense[1]}, Category: {expense[2]}, Description: {expense[3]}, Date: {expense[4]}\")\n",
        "\n",
        "    def delete_expense(self, expense_id):\n",
        "        self.cursor.execute(\"SELECT * FROM expenses WHERE id=?\", (expense_id,))\n",
        "        expense = self.cursor.fetchone()\n",
        "        if expense:\n",
        "            self.cursor.execute(\"DELETE FROM expenses WHERE id=?\", (expense_id,))\n",
        "            self.conn.commit()\n",
        "            print(f\"Expense with ID {expense_id} deleted successfully.\")\n",
        "        else:\n",
        "            print(\"Expense not found.\")\n",
        "\n",
        "def main():\n",
        "    expense_tracker = ExpenseTracker()\n",
        "\n",
        "    while True:\n",
        "        print(\"\\n--- Expense Tracker ---\")\n",
        "        print(\"1. Add Expense\")\n",
        "        print(\"2. View Expenses\")\n",
        "        print(\"3. Delete Expense\")\n",
        "        print(\"4. Exit\")\n",
        "\n",
        "        choice = input(\"Enter your choice (1-4): \")\n",
        "\n",
        "        if choice == \"1\":\n",
        "            amount = float(input(\"Enter expense amount: \"))\n",
        "            category = input(\"Enter expense category: \")\n",
        "            description = input(\"Enter expense description (optional): \")\n",
        "            expense_tracker.add_expense(amount, category, description)\n",
        "        elif choice == \"2\":\n",
        "            expense_tracker.view_expenses()\n",
        "        elif choice == \"3\":\n",
        "            expense_id = int(input(\"Enter expense ID to delete: \"))\n",
        "            expense_tracker.delete_expense(expense_id)\n",
        "        elif choice == \"4\":\n",
        "            print(\"Exiting the Expense Tracker. Goodbye!\")\n",
        "            break\n",
        "        else:\n",
        "            print(\"Invalid choice. Please enter a number between 1 and 4.\")\n",
        "\n",
        "if __name__ == \"__main__\":\n",
        "    main()\n"
      ],
      "metadata": {
        "colab": {
          "base_uri": "https://localhost:8080/"
        },
        "id": "_nSMQFQwKDP6",
        "outputId": "3ea5cf81-bb72-43f5-f99e-39fcba987618"
      },
      "execution_count": 4,
      "outputs": [
        {
          "output_type": "stream",
          "name": "stdout",
          "text": [
            "\n",
            "--- Expense Tracker ---\n",
            "1. Add Expense\n",
            "2. View Expenses\n",
            "3. Delete Expense\n",
            "4. Exit\n",
            "Enter your choice (1-4): exit\n",
            "Invalid choice. Please enter a number between 1 and 4.\n",
            "\n",
            "--- Expense Tracker ---\n",
            "1. Add Expense\n",
            "2. View Expenses\n",
            "3. Delete Expense\n",
            "4. Exit\n",
            "Enter your choice (1-4): 4\n",
            "Exiting the Expense Tracker. Goodbye!\n"
          ]
        }
      ]
    },
    {
      "cell_type": "markdown",
      "source": [
        "# Chatbot"
      ],
      "metadata": {
        "id": "tnQnYW09KM1z"
      }
    },
    {
      "cell_type": "code",
      "source": [
        "import nltk\n",
        "from nltk.chat.util import Chat, reflections\n",
        "\n",
        "nltk.download('punkt')\n",
        "\n",
        "def format_message(speaker, message):\n",
        "    return f\"{speaker}: {message}\"\n",
        "\n",
        "pairs = [\n",
        "    [\"hello|hi|hey\", [\"Hello!\", \"Hi there!\", \"Hey!\"]],\n",
        "    [\"how are you\", [\"I'm good, thank you!\", \"I'm doing well.\"]],\n",
        "    [\"what's your name\", [\"I'm a chatbot.\", \"You can call me ChatGPT.\"]],\n",
        "    [\"bye|goodbye\", [\"Goodbye!\", \"See you later!\", \"Bye!\"]],\n",
        "    [\"your age\", [\"I don't have an age. I'm just a program.\", \"Age is not applicable to me.\"]],\n",
        "    [\"who created you\", [\"I was created by a team of developers.\", \"The credit goes to the developers who built me.\"]],\n",
        "    [\"tell me a joke\", [\"Why don't scientists trust atoms? Because they make up everything!\", \"What did one ocean say to the other ocean? Nothing, they just waved.\"]],\n",
        "    [\"favorite color\", [\"I don't have a favorite color. I'm just a chatbot.\", \"Colors are beyond my preferences.\"]],\n",
        "    [\"where are you from\", [\"I exist in the digital realm. No specific location.\", \"I don't have a physical origin.\"]],\n",
        "    [\"how can you help\", [\"I can answer questions, provide information, or just chat with you.\", \"Feel free to ask me anything!\"]],\n",
        "    [\"what is the meaning of life\", [\"The meaning of life is a subjective question. What does it mean to you?\", \"The answer to that question is a mystery that everyone must unravel for themselves.\"]],\n",
        "]\n",
        "\n",
        "def simple_chatbot():\n",
        "    print(\"Chatbot: Hello! I'm a simple chatbot. Type 'bye' to exit.\")\n",
        "\n",
        "    chat = Chat(pairs, reflections)\n",
        "\n",
        "    while True:\n",
        "        user_input = input(\"You: \")\n",
        "        if user_input.lower() == 'bye':\n",
        "            print(\"Chatbot: Goodbye! Have a great day.\")\n",
        "            break\n",
        "        response = chat.respond(user_input)\n",
        "        print(format_message(\"Chatbot\", response))\n",
        "\n",
        "if __name__ == \"__main__\":\n",
        "    simple_chatbot()\n"
      ],
      "metadata": {
        "colab": {
          "base_uri": "https://localhost:8080/"
        },
        "id": "-ijX2uejKLba",
        "outputId": "0560dd14-6351-430a-89e5-d6df87a266dd"
      },
      "execution_count": 5,
      "outputs": [
        {
          "output_type": "stream",
          "name": "stderr",
          "text": [
            "[nltk_data] Downloading package punkt to /root/nltk_data...\n",
            "[nltk_data]   Unzipping tokenizers/punkt.zip.\n"
          ]
        },
        {
          "output_type": "stream",
          "name": "stdout",
          "text": [
            "Chatbot: Hello! I'm a simple chatbot. Type 'bye' to exit.\n",
            "You: bye\n",
            "Chatbot: Goodbye! Have a great day.\n"
          ]
        }
      ]
    }
  ]
}